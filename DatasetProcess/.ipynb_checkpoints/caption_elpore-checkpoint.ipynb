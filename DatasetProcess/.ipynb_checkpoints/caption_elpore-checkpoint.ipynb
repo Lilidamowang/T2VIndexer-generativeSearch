{
 "cells": [
  {
   "cell_type": "code",
   "execution_count": 11,
   "id": "13941e72-e357-4d4d-abfd-05d6defdf466",
   "metadata": {},
   "outputs": [],
   "source": [
    "import pandas as pd\n",
    "from tqdm import tqdm"
   ]
  },
  {
   "cell_type": "code",
   "execution_count": 14,
   "id": "2d1bf9b7-209c-43b2-9cd8-59a173069880",
   "metadata": {},
   "outputs": [],
   "source": [
    "import pickle \n",
    "with open(\"/root/autodl-tmp/generateSearch/MSRVTTdataset/kmeans/k30_c30_seed_34_webvid2.pkl\", 'rb') as f:\n",
    "    mapping = pickle.load(f)\n",
    "v = []\n",
    "for k in mapping:\n",
    "    if k not in train_list_id:\n",
    "        v.append('-'.join([str(item) for item in mapping[k]]))"
   ]
  },
  {
   "cell_type": "code",
   "execution_count": 15,
   "id": "d2ac253a-2194-4a7b-9d5f-1efa87eff289",
   "metadata": {},
   "outputs": [
    {
     "data": {
      "text/plain": [
       "(1000, '28-1-17-1')"
      ]
     },
     "execution_count": 15,
     "metadata": {},
     "output_type": "execute_result"
    }
   ],
   "source": [
    "len(v), v[0]"
   ]
  },
  {
   "cell_type": "code",
   "execution_count": null,
   "id": "c405050f-2743-4988-9d2f-2718ea54d0ab",
   "metadata": {},
   "outputs": [
    {
     "name": "stderr",
     "output_type": "stream",
     "text": [
      "559447it [00:40, 4218.68it/s] "
     ]
    }
   ],
   "source": [
    "res = {}\n",
    "df_train = pd.read_csv(\n",
    "                    \"/root/autodl-tmp/generateSearch/MSRVTTdataset/k30_c30_webvid_c4v_qg_layer2/train.tsv\",\n",
    "                    encoding='utf-8',\n",
    "                    header=None, sep='\\t')\n",
    "df_train.dropna(inplace=True)\n",
    "for _, (cap, vid, ts) in tqdm(df_train.iterrows()):\n",
    "    if ts not in v:\n",
    "        continue\n",
    "    if ts not in res.keys():\n",
    "        res[ts] = []\n",
    "    if vid in train_list_id:\n",
    "        flg = 1\n",
    "    else:\n",
    "        flg = 0\n",
    "    try:\n",
    "        res[ts].append([cap.replace('\\n', '').replace('\\t', ''), vid, flg])\n",
    "    except Exception as e:\n",
    "        print(type(cap))\n",
    "        print(cap)"
   ]
  },
  {
   "cell_type": "code",
   "execution_count": 13,
   "id": "40517706-0582-422b-8f77-0f26b600b52c",
   "metadata": {},
   "outputs": [],
   "source": [
    "with open(\"../data/MSRVTT/train_list_jsfusion.txt\", \"r\") as f:\n",
    "    train_list_id = f.readlines()\n",
    "for i, item in enumerate(train_list_id):\n",
    "    if '\\n' in item:\n",
    "        item = item.replace('\\n', '')\n",
    "    train_list_id[i] = item"
   ]
  },
  {
   "cell_type": "code",
   "execution_count": 11,
   "id": "70f7aaa8-d74d-4f52-bac2-43cdabf9b2ac",
   "metadata": {},
   "outputs": [
    {
     "name": "stdout",
     "output_type": "stream",
     "text": [
      "a clip from batman in a plane with people jumping out of the plane\n",
      "video360\n",
      "10-23-25\n"
     ]
    }
   ],
   "source": [
    "res = {}\n",
    "for item in df_train.iterrows():\n",
    "    print(item[1][0])\n",
    "    print(item[1][1])\n",
    "    print(item[1][2])\n",
    "    break"
   ]
  },
  {
   "cell_type": "code",
   "execution_count": 25,
   "id": "e569c67d-76a6-456c-867a-8cac81d9675e",
   "metadata": {},
   "outputs": [
    {
     "data": {
      "text/plain": [
       "849"
      ]
     },
     "execution_count": 25,
     "metadata": {},
     "output_type": "execute_result"
    }
   ],
   "source": [
    "len(res)"
   ]
  },
  {
   "cell_type": "code",
   "execution_count": 36,
   "id": "a02687af-5d02-4425-8eed-71f00d53b97b",
   "metadata": {},
   "outputs": [],
   "source": [
    "import json\n",
    "with open(\"/root/autodl-tmp/generateSearch/MSRVTTdataset/k30_c30_webvid_c4v_qg_layer2/exp.json\", 'w') as f:\n",
    "    json.dump(res, f)"
   ]
  },
  {
   "cell_type": "code",
   "execution_count": 14,
   "id": "d91a063d-69e4-4a46-8bf2-8dd3818ecd83",
   "metadata": {},
   "outputs": [
    {
     "data": {
      "text/plain": [
       "[['a clip from batman in a plane with people jumping out of the plane',\n",
       "  'video360',\n",
       "  True],\n",
       " ['a clip from batman the dark knight raises', 'video360', True],\n",
       " ['a man and another man argue on an airplane', 'video360', True],\n",
       " ['a man on a plane asks bane from batman what the next step of bane s master plan is',\n",
       "  'video360',\n",
       "  True],\n",
       " ['a scene from dark knight rises where bane crashes the plane',\n",
       "  'video360',\n",
       "  True],\n",
       " ['bane and his soldiers evacuate a plane', 'video360', True],\n",
       " ['bane talking to a man', 'video360', True],\n",
       " ['evil villain explains next step of his plan', 'video360', True],\n",
       " ['man talking to bane from batman', 'video360', True],\n",
       " ['men jump from an airplane', 'video360', True],\n",
       " ['men jumping out of a airplane', 'video360', True],\n",
       " ['on a scene from a movie people are falling out of an airplane',\n",
       "  'video360',\n",
       "  True],\n",
       " ['people jumping from a plane', 'video360', True],\n",
       " ['scene froma movie where the villan crashed the plane', 'video360', True],\n",
       " ['someone is talking to bane', 'video360', True],\n",
       " ['the dc comics character bane attacks a man on an airplane',\n",
       "  'video360',\n",
       "  True],\n",
       " ['two man s are talking to each other', 'video360', True],\n",
       " ['a man on a plane asks bane from batman what the next step of bane s master plan is',\n",
       "  'video360',\n",
       "  True],\n",
       " ['the dc comics character bane attacks a man on an airplane',\n",
       "  'video360',\n",
       "  True],\n",
       " ['man talking to bane from batman', 'video360', True],\n",
       " ['A man in a black mask and cape, possibly the villain Bane, sits on an airplane seat, preparing for a skydive.',\n",
       "  'video360',\n",
       "  True],\n",
       " ['The man wearing the black catsuit and mask is surrounded by a group of people, who seem to be part of the same team. They are either fellow skywalkers, fellow villains, or accomplices. ',\n",
       "  'video360',\n",
       "  True],\n",
       " [\"As the man prepares to jump from the airliner, he appears to have a smile on his face, indicating that he is excited about the adventure. This could be a sign of his bravery or his confidence in his abilities.4. In the sky, the skies are clear and blue, providing a picturesque backdrop for the daring jump.5. During the jump, there is a moment when the masked man's face is partially visible, revealing a glimpse of a man with a strong, determined expression.6. After the parachute opens, it billows out, creating a dramatic visual effect.7. Throughout the video, a sense of anticipation and thrill is evident, as the viewer watches the daredevil make the leap.8. There is also a feeling of camaraderie between the group members, with some of them smiling and encouraging each other.9. Overall, this video showcases a thrilling and dazzling skyscape, featuring a fearless and determined character, and captures the excitement of skilled skygivers.\",\n",
       "  'video360',\n",
       "  True],\n",
       " [\"Video showing Bane's plane landing on top of the mask in a movie set.\",\n",
       "  'video360',\n",
       "  True],\n",
       " ['Picture shows Bane plane flying over the airport in a movie trailer for his next stunt.',\n",
       "  'video360',\n",
       "  True],\n",
       " [\"Picture of Bane's plane flying over the city in a movie trailer.\",\n",
       "  'video360',\n",
       "  True],\n",
       " [\"Image showing the plane's landing gear, and a mask of actor Bane in his face.\",\n",
       "  'video360',\n",
       "  True],\n",
       " [\"Photo showing Bane's plane flying over the city of planes in movie.\",\n",
       "  'video360',\n",
       "  True],\n",
       " [\"Picture showing Bane's plane flying over a military mask, the movie was released in theaters.\",\n",
       "  'video360',\n",
       "  True],\n",
       " [\"Photo of the actor's plane crashing into a movie set in his face.\",\n",
       "  'video360',\n",
       "  True],\n",
       " [\"Image shows Bane flying in the air and then he's shot down.\",\n",
       "  'video360',\n",
       "  True],\n",
       " [\"Video of plane flying into mask masks in the movie 'Batman v Superman actor stuntman who is wearing it,\",\n",
       "  'video360',\n",
       "  True],\n",
       " [\"Photo of the actor's plane crash in his mask, from a movie poster.\",\n",
       "  'video360',\n",
       "  True],\n",
       " ['Image shows a plane crash scene from the movie.', 'video360', True],\n",
       " ['Picture shows actor flying mask in the movie theater.', 'video360', True],\n",
       " [\"Image shows a plane crash scene from the film's stunt actor who was wearing mask, police said.\",\n",
       "  'video360',\n",
       "  True],\n",
       " ['Image showing the plane being taken off its mask.', 'video360', True],\n",
       " ['Image shows the airplane mask on a helicopter in front.', 'video360', True],\n",
       " [\"Picture of Bane's mask being blown in the air.\", 'video360', True],\n",
       " ['Picture of plane crash landing in the desert after a man dressed as Bane jumps from it.',\n",
       "  'video360',\n",
       "  True],\n",
       " [\"Picture showing the plane's landing gear, which was used to film a scene of Bane flying over the airport.\",\n",
       "  'video360',\n",
       "  True],\n",
       " ['Image shows the plane being in a black and white video of it landing on runway, with no mask or helmet',\n",
       "  'video360',\n",
       "  True],\n",
       " ['Video shows masked man dressed like actor playing in movie.',\n",
       "  'video360',\n",
       "  True],\n",
       " [\"Video showing the plane's landing gear being used to mask a terrorist threat was posted on YouTube.\",\n",
       "  'video360',\n",
       "  True],\n",
       " ['Image showing a mask of the plane that crashed into an airplane in front.',\n",
       "  'video360',\n",
       "  True],\n",
       " ['Picture showing a plane crash landing on the streets in this video.',\n",
       "  'video360',\n",
       "  True],\n",
       " ['Image of a plane flying over the sea was taken from video posted by an unidentified pilot in flight simulator, but',\n",
       "  'video360',\n",
       "  True],\n",
       " ['Video shows plane crashing into the movie theater at a speed of about four times.',\n",
       "  'video360',\n",
       "  True],\n",
       " ['Video shows plane crash victim flying into a tree, then landing in the sea with his face mask on and helmet',\n",
       "  'video360',\n",
       "  True],\n",
       " ['Photo shows plane pilot flying in helicopter mask on top.',\n",
       "  'video360',\n",
       "  True],\n",
       " ['Photo shows how much money was lost to the government in each flight.',\n",
       "  'video360',\n",
       "  True],\n",
       " ['Photo shows the aftermath of a plane crash in which an airman was killed and his crewmates were wounded.',\n",
       "  'video360',\n",
       "  True],\n",
       " ['Photo of the day by actor and martial artist, Bane masks.',\n",
       "  'video360',\n",
       "  True]]"
      ]
     },
     "execution_count": 14,
     "metadata": {},
     "output_type": "execute_result"
    }
   ],
   "source": [
    "res['10-23-25']"
   ]
  },
  {
   "cell_type": "code",
   "execution_count": 1,
   "id": "e8f533a4-787b-447f-892a-b929fd467d24",
   "metadata": {},
   "outputs": [],
   "source": [
    "import pandas as pd\n",
    "\n",
    "path_l1 = '/root/autodl-tmp/generateSearch/MSRVTTdataset/k30_c30_webvid_c4v_qg_layer1/test.tsv'\n",
    "path_l2 = '/root/autodl-tmp/generateSearch/MSRVTTdataset/k30_c30_webvid_c4v_qg_layer2/test.tsv'\n",
    "\n",
    "l1 = pd.read_csv(\n",
    "                    path_l1,\n",
    "                    encoding='utf-8',\n",
    "                    header=None, sep='\\t')\n",
    "l2 = pd.read_csv(\n",
    "                    path_l2,\n",
    "                    encoding='utf-8',\n",
    "                    header=None, sep='\\t')"
   ]
  },
  {
   "cell_type": "code",
   "execution_count": 8,
   "id": "5a24b5a0-6f73-4bd3-bffa-a5c787a15b13",
   "metadata": {},
   "outputs": [],
   "source": [
    "l1.dropna(inplace=True)\n",
    "l2.dropna(inplace=True)\n",
    "res_l1 = {}\n",
    "res_l2 = {}\n",
    "\n",
    "for _, (cap, vid, ts) in l2.iterrows():\n",
    "    if ts not in res_l2:\n",
    "        res_l2[ts] = []\n",
    "    res_l2[ts].append(vid)"
   ]
  },
  {
   "cell_type": "code",
   "execution_count": 9,
   "id": "bfeac46a-7087-45b4-af42-bd8fb0fa6252",
   "metadata": {},
   "outputs": [],
   "source": [
    "import json\n",
    "with open(\"/root/autodl-tmp/generateSearch/MSRVTTdataset/k30_c30_webvid_c4v_qg_layer2/res.json\", 'w') as f:\n",
    "    json.dump(res_l2, f)"
   ]
  },
  {
   "cell_type": "code",
   "execution_count": null,
   "id": "5a1bdd18-f005-4e7b-a26a-43528ec748fa",
   "metadata": {},
   "outputs": [],
   "source": []
  }
 ],
 "metadata": {
  "kernelspec": {
   "display_name": "Python 3 (ipykernel)",
   "language": "python",
   "name": "python3"
  },
  "language_info": {
   "codemirror_mode": {
    "name": "ipython",
    "version": 3
   },
   "file_extension": ".py",
   "mimetype": "text/x-python",
   "name": "python",
   "nbconvert_exporter": "python",
   "pygments_lexer": "ipython3",
   "version": "3.8.10"
  }
 },
 "nbformat": 4,
 "nbformat_minor": 5
}
