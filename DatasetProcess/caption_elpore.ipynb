{
 "cells": [
  {
   "cell_type": "code",
   "execution_count": 11,
   "id": "13941e72-e357-4d4d-abfd-05d6defdf466",
   "metadata": {},
   "outputs": [],
   "source": [
    "import pandas as pd\n",
    "from tqdm import tqdm"
   ]
  },
  {
   "cell_type": "code",
   "execution_count": 14,
   "id": "2d1bf9b7-209c-43b2-9cd8-59a173069880",
   "metadata": {},
   "outputs": [],
   "source": [
    "import pickle \n",
    "with open(\"/root/autodl-tmp/generateSearch/MSRVTTdataset/kmeans/k30_c30_seed_34_webvid2.pkl\", 'rb') as f:\n",
    "    mapping = pickle.load(f)\n",
    "v = []\n",
    "for k in mapping:\n",
    "    if k not in train_list_id:\n",
    "        v.append('-'.join([str(item) for item in mapping[k]]))"
   ]
  },
  {
   "cell_type": "code",
   "execution_count": 15,
   "id": "d2ac253a-2194-4a7b-9d5f-1efa87eff289",
   "metadata": {},
   "outputs": [
    {
     "data": {
      "text/plain": [
       "(1000, '28-1-17-1')"
      ]
     },
     "execution_count": 15,
     "metadata": {},
     "output_type": "execute_result"
    }
   ],
   "source": [
    "len(v), v[0]"
   ]
  },
  {
   "cell_type": "code",
   "execution_count": 16,
   "id": "c405050f-2743-4988-9d2f-2718ea54d0ab",
   "metadata": {},
   "outputs": [
    {
     "name": "stderr",
     "output_type": "stream",
     "text": [
      "560945it [00:41, 13663.12it/s]\n"
     ]
    }
   ],
   "source": [
    "res = {}\n",
    "df_train = pd.read_csv(\n",
    "                    \"/root/autodl-tmp/generateSearch/MSRVTTdataset/k30_c30_webvid_c4v_qg_layer2/train.tsv\",\n",
    "                    encoding='utf-8',\n",
    "                    header=None, sep='\\t')\n",
    "df_train.dropna(inplace=True)\n",
    "for _, (cap, vid, ts) in tqdm(df_train.iterrows()):\n",
    "    if ts not in v:\n",
    "        continue\n",
    "    if ts not in res.keys():\n",
    "        res[ts] = []\n",
    "    if vid in train_list_id:\n",
    "        flg = 1\n",
    "    else:\n",
    "        flg = 0\n",
    "    try:\n",
    "        res[ts].append([cap.replace('\\n', '').replace('\\t', ''), vid, flg])\n",
    "    except Exception as e:\n",
    "        print(type(cap))\n",
    "        print(cap)"
   ]
  },
  {
   "cell_type": "code",
   "execution_count": 13,
   "id": "40517706-0582-422b-8f77-0f26b600b52c",
   "metadata": {},
   "outputs": [],
   "source": [
    "with open(\"../data/MSRVTT/train_list_jsfusion.txt\", \"r\") as f:\n",
    "    train_list_id = f.readlines()\n",
    "for i, item in enumerate(train_list_id):\n",
    "    if '\\n' in item:\n",
    "        item = item.replace('\\n', '')\n",
    "    train_list_id[i] = item"
   ]
  },
  {
   "cell_type": "code",
   "execution_count": 11,
   "id": "70f7aaa8-d74d-4f52-bac2-43cdabf9b2ac",
   "metadata": {},
   "outputs": [
    {
     "name": "stdout",
     "output_type": "stream",
     "text": [
      "a clip from batman in a plane with people jumping out of the plane\n",
      "video360\n",
      "10-23-25\n"
     ]
    }
   ],
   "source": [
    "res = {}\n",
    "for item in df_train.iterrows():\n",
    "    print(item[1][0])\n",
    "    print(item[1][1])\n",
    "    print(item[1][2])\n",
    "    break"
   ]
  },
  {
   "cell_type": "code",
   "execution_count": 25,
   "id": "e569c67d-76a6-456c-867a-8cac81d9675e",
   "metadata": {},
   "outputs": [
    {
     "data": {
      "text/plain": [
       "849"
      ]
     },
     "execution_count": 25,
     "metadata": {},
     "output_type": "execute_result"
    }
   ],
   "source": [
    "len(res)"
   ]
  },
  {
   "cell_type": "code",
   "execution_count": 17,
   "id": "a02687af-5d02-4425-8eed-71f00d53b97b",
   "metadata": {},
   "outputs": [],
   "source": [
    "import json\n",
    "with open(\"/root/autodl-tmp/generateSearch/MSRVTTdataset/k30_c30_webvid_c4v_qg_layer2/exp.json\", 'w') as f:\n",
    "    json.dump(res, f)"
   ]
  },
  {
   "cell_type": "code",
   "execution_count": 18,
   "id": "d91a063d-69e4-4a46-8bf2-8dd3818ecd83",
   "metadata": {},
   "outputs": [
    {
     "ename": "KeyError",
     "evalue": "'10-23-25'",
     "output_type": "error",
     "traceback": [
      "\u001b[0;31m---------------------------------------------------------------------------\u001b[0m",
      "\u001b[0;31mKeyError\u001b[0m                                  Traceback (most recent call last)",
      "\u001b[0;32m/tmp/ipykernel_2426/4195741563.py\u001b[0m in \u001b[0;36m<module>\u001b[0;34m\u001b[0m\n\u001b[0;32m----> 1\u001b[0;31m \u001b[0mres\u001b[0m\u001b[0;34m[\u001b[0m\u001b[0;34m'10-23-25'\u001b[0m\u001b[0;34m]\u001b[0m\u001b[0;34m\u001b[0m\u001b[0;34m\u001b[0m\u001b[0m\n\u001b[0m",
      "\u001b[0;31mKeyError\u001b[0m: '10-23-25'"
     ]
    }
   ],
   "source": [
    "res['10-23-25']"
   ]
  },
  {
   "cell_type": "code",
   "execution_count": 1,
   "id": "e8f533a4-787b-447f-892a-b929fd467d24",
   "metadata": {},
   "outputs": [],
   "source": [
    "import pandas as pd\n",
    "\n",
    "path_l1 = '/root/autodl-tmp/generateSearch/MSRVTTdataset/k30_c30_webvid_c4v_qg_layer1/test.tsv'\n",
    "path_l2 = '/root/autodl-tmp/generateSearch/MSRVTTdataset/k30_c30_webvid_c4v_qg_layer2/test.tsv'\n",
    "\n",
    "l1 = pd.read_csv(\n",
    "                    path_l1,\n",
    "                    encoding='utf-8',\n",
    "                    header=None, sep='\\t')\n",
    "l2 = pd.read_csv(\n",
    "                    path_l2,\n",
    "                    encoding='utf-8',\n",
    "                    header=None, sep='\\t')"
   ]
  },
  {
   "cell_type": "code",
   "execution_count": 8,
   "id": "5a24b5a0-6f73-4bd3-bffa-a5c787a15b13",
   "metadata": {},
   "outputs": [],
   "source": [
    "l1.dropna(inplace=True)\n",
    "l2.dropna(inplace=True)\n",
    "res_l1 = {}\n",
    "res_l2 = {}\n",
    "\n",
    "for _, (cap, vid, ts) in l2.iterrows():\n",
    "    if ts not in res_l2:\n",
    "        res_l2[ts] = []\n",
    "    res_l2[ts].append(vid)"
   ]
  },
  {
   "cell_type": "code",
   "execution_count": 9,
   "id": "bfeac46a-7087-45b4-af42-bd8fb0fa6252",
   "metadata": {},
   "outputs": [],
   "source": [
    "import json\n",
    "with open(\"/root/autodl-tmp/generateSearch/MSRVTTdataset/k30_c30_webvid_c4v_qg_layer2/res.json\", 'w') as f:\n",
    "    json.dump(res_l2, f)"
   ]
  },
  {
   "cell_type": "code",
   "execution_count": null,
   "id": "5a1bdd18-f005-4e7b-a26a-43528ec748fa",
   "metadata": {},
   "outputs": [],
   "source": []
  }
 ],
 "metadata": {
  "kernelspec": {
   "display_name": "Python 3 (ipykernel)",
   "language": "python",
   "name": "python3"
  },
  "language_info": {
   "codemirror_mode": {
    "name": "ipython",
    "version": 3
   },
   "file_extension": ".py",
   "mimetype": "text/x-python",
   "name": "python",
   "nbconvert_exporter": "python",
   "pygments_lexer": "ipython3",
   "version": "3.8.10"
  }
 },
 "nbformat": 4,
 "nbformat_minor": 5
}
